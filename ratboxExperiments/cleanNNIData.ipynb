{
 "cells": [
  {
   "cell_type": "markdown",
   "id": "03060711",
   "metadata": {},
   "source": [
    "# Convert .txt files from NNI experiment to Pickle and CSV"
   ]
  },
  {
   "cell_type": "code",
   "execution_count": 1,
   "id": "f2521723",
   "metadata": {},
   "outputs": [],
   "source": [
    "import pytry\n",
    "import pandas as pd\n",
    "import numpy as np\n",
    "import pickle\n",
    "import os\n",
    "from tqdm import tqdm\n",
    "\n",
    "from utils import txt_to_df\n",
    "\n",
    "import warnings\n",
    "warnings.filterwarnings('ignore')"
   ]
  },
  {
   "cell_type": "markdown",
   "id": "e4f0d358",
   "metadata": {},
   "source": [
    "Set path to data folder"
   ]
  },
  {
   "cell_type": "code",
   "execution_count": 2,
   "id": "96db7cd4",
   "metadata": {},
   "outputs": [],
   "source": [
    "folder = '.\\\\data\\\\nni_rawtxt\\\\nni_ratbox100_hexssp'"
   ]
  },
  {
   "cell_type": "markdown",
   "id": "1fd8bfdc",
   "metadata": {},
   "source": [
    "Get column headers"
   ]
  },
  {
   "cell_type": "code",
   "execution_count": 3,
   "id": "f6360a49",
   "metadata": {},
   "outputs": [],
   "source": [
    "IDXS = [0,1,2,3,4,5,8,9,10,11,12,13,14,15,16,17,18,24,25,27,28,29,30,31]\n",
    "\n",
    "filepath = os.path.join(folder, os.listdir(folder)[0])\n",
    "\n",
    "## Open file in read mode\n",
    "data = open(filepath,\"r+\")\n",
    "\n",
    "## Get each line of .txt\n",
    "lines=data.readlines()\n",
    "\n",
    "## Get column headers from .txt\n",
    "header = [e.split(' =')[0] for i,e in enumerate(lines) if i in IDXS]"
   ]
  },
  {
   "cell_type": "markdown",
   "id": "bec2e6a0",
   "metadata": {},
   "source": [
    "Convert to Pandas DataFrame"
   ]
  },
  {
   "cell_type": "code",
   "execution_count": 4,
   "id": "7d456650",
   "metadata": {},
   "outputs": [
    {
     "name": "stderr",
     "output_type": "stream",
     "text": [
      "100%|████████████████████████████████████████████████████████████████████████████████| 100/100 [01:13<00:00,  1.36it/s]\n"
     ]
    }
   ],
   "source": [
    "df = txt_to_df(folder, header, IDXS)"
   ]
  },
  {
   "cell_type": "markdown",
   "id": "01d727b1",
   "metadata": {},
   "source": [
    "Set destination folder and save as csv and pickle file"
   ]
  },
  {
   "cell_type": "code",
   "execution_count": 5,
   "id": "7f1dc03c",
   "metadata": {},
   "outputs": [],
   "source": [
    "save_csv='.\\\\data\\\\nni_csvs\\\\ratbox100_hexssp.csv'\n",
    "save_pkl='.\\\\data\\\\nni_pickles\\\\ratbox100_hexssp.pkl'\n",
    "\n",
    "df.to_csv(save_csv, encoding='utf-8', index=False)\n",
    "df.to_pickle(save_pkl)"
   ]
  },
  {
   "cell_type": "code",
   "execution_count": null,
   "id": "76526739",
   "metadata": {},
   "outputs": [],
   "source": []
  }
 ],
 "metadata": {
  "kernelspec": {
   "display_name": "Python 3 (ipykernel)",
   "language": "python",
   "name": "python3"
  },
  "language_info": {
   "codemirror_mode": {
    "name": "ipython",
    "version": 3
   },
   "file_extension": ".py",
   "mimetype": "text/x-python",
   "name": "python",
   "nbconvert_exporter": "python",
   "pygments_lexer": "ipython3",
   "version": "3.9.12"
  }
 },
 "nbformat": 4,
 "nbformat_minor": 5
}
