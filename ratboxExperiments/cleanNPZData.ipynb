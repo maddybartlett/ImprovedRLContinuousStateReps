{
 "cells": [
  {
   "cell_type": "markdown",
   "id": "e39a185a",
   "metadata": {},
   "source": [
    "# Convert NPZ to CSV\n",
    "\n",
    "Clean and convert the data produced by running each network configuration 10 times with 10 random seeds. "
   ]
  },
  {
   "cell_type": "code",
   "execution_count": 1,
   "id": "151bfd2f",
   "metadata": {},
   "outputs": [],
   "source": [
    "import pytry\n",
    "import pickle\n",
    "import pandas as pd\n",
    "import os\n",
    "import numpy as np"
   ]
  },
  {
   "cell_type": "markdown",
   "id": "15c7a683",
   "metadata": {},
   "source": [
    "Set path to folder"
   ]
  },
  {
   "cell_type": "code",
   "execution_count": 2,
   "id": "d7af0712",
   "metadata": {},
   "outputs": [],
   "source": [
    "folder = \".\\\\data\\\\ratbox50_discrete6_x10\"\n",
    "save_name = folder.split('\\\\')[-1]"
   ]
  },
  {
   "cell_type": "markdown",
   "id": "1d4f92b9",
   "metadata": {},
   "source": [
    "Read as pandas dataframe"
   ]
  },
  {
   "cell_type": "code",
   "execution_count": 3,
   "id": "10a308b6",
   "metadata": {},
   "outputs": [],
   "source": [
    "allData=[]\n",
    "i=0\n",
    "for filename in os.listdir(folder):\n",
    "    filepath = os.path.join(folder, filename)\n",
    "    arr=np.load(filepath, allow_pickle=True)\n",
    "    \n",
    "    vals=[]\n",
    "    if i==0:\n",
    "        header = arr.files\n",
    "        df = pd.DataFrame(header)\n",
    "    \n",
    "    for item in arr.files:\n",
    "        vals.append(arr[item])\n",
    "    \n",
    "    allData.append(vals)\n",
    "    i+=1\n",
    "    \n",
    "    \n",
    "df = pd.DataFrame(allData, columns=header)"
   ]
  },
  {
   "cell_type": "markdown",
   "id": "b0300eaf",
   "metadata": {},
   "source": [
    "Save as csv"
   ]
  },
  {
   "cell_type": "code",
   "execution_count": 4,
   "id": "f1783be5",
   "metadata": {},
   "outputs": [],
   "source": [
    "save_local=f'..\\\\ratboxData\\\\{save_name}.csv'\n",
    "df.to_csv(save_local)"
   ]
  }
 ],
 "metadata": {
  "kernelspec": {
   "display_name": "Python 3 (ipykernel)",
   "language": "python",
   "name": "python3"
  },
  "language_info": {
   "codemirror_mode": {
    "name": "ipython",
    "version": 3
   },
   "file_extension": ".py",
   "mimetype": "text/x-python",
   "name": "python",
   "nbconvert_exporter": "python",
   "pygments_lexer": "ipython3",
   "version": "3.9.12"
  }
 },
 "nbformat": 4,
 "nbformat_minor": 5
}
